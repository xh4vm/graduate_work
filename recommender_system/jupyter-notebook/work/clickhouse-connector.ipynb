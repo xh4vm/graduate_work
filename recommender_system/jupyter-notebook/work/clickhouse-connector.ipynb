{
 "cells": [
  {
   "cell_type": "code",
   "execution_count": 4,
   "id": "2752470c-c19d-429c-9c6d-82343c073482",
   "metadata": {},
   "outputs": [],
   "source": [
    "clickhouse_url = 'jdbc:clickhouse://clickhouse-node1:9000'\n",
    "properties = {\n",
    "    'user': 'user',\n",
    "    'password': 'password',\n",
    "    'driver': 'com.github.housepower.jdbc.ClickHouseDriver'\n",
    "}\n",
    "query = \"with t as (select user_id, movie_id, max(movie_duration) as movie_duration, sum(multiIf(event_type == 'starting', -1 * frame_time, event_type == 'stopped', frame_time, 0)) as metric, argMax(frame_time, created_at) as last_frame_time from (SELECT user_id, movie_id, frame_time, movie_duration, event_type, created_at from default.movie_frame ORDER BY created_at) GROUP BY user_id, movie_id) select user_id, movie_id, if(metric <= 0, last_frame_time + metric, metric) / movie_duration as metric from t\""
   ]
  },
  {
   "cell_type": "code",
   "execution_count": 5,
   "id": "d0a13815-458a-4b8d-b048-f22ed98d1b4a",
   "metadata": {},
   "outputs": [],
   "source": [
    "from pyspark.sql import SparkSession\n",
    "\n",
    "appName='clickhouse_connector'\n",
    "spark = SparkSession \\\n",
    "    .builder \\\n",
    "    .appName(appName) \\\n",
    "    .master('spark://spark-master:7077') \\\n",
    "    .config('spark.jars', '/opt/clickhouse-native-jdbc-shaded-2.6.4.jar') \\\n",
    "    .getOrCreate()"
   ]
  },
  {
   "cell_type": "code",
   "execution_count": 6,
   "id": "a0ae6701-3a3d-4f5b-8573-0776c66bfabd",
   "metadata": {},
   "outputs": [],
   "source": [
    "d = spark.read.format(\"jdbc\") \\\n",
    "    .option('driver', properties.get('driver')) \\\n",
    "    .option('url', clickhouse_url) \\\n",
    "    .option('user', properties.get('user')) \\\n",
    "    .option('password',  properties.get('password')) \\\n",
    "    .option('query', query) \\\n",
    "    .load()"
   ]
  },
  {
   "cell_type": "code",
   "execution_count": 7,
   "id": "636db3d1-fa89-49c9-8c29-37439b5b0ec0",
   "metadata": {},
   "outputs": [
    {
     "name": "stdout",
     "output_type": "stream",
     "text": [
      "[Row(user_id='1234567890', movie_id='strinп', metric=0.38)]\n"
     ]
    }
   ],
   "source": [
    "print(d.take(5))"
   ]
  },
  {
   "cell_type": "code",
   "execution_count": null,
   "id": "749af61a",
   "metadata": {},
   "outputs": [],
   "source": []
  }
 ],
 "metadata": {
  "kernelspec": {
   "display_name": "venv",
   "language": "python",
   "name": "python3"
  },
  "language_info": {
   "codemirror_mode": {
    "name": "ipython",
    "version": 3
   },
   "file_extension": ".py",
   "mimetype": "text/x-python",
   "name": "python",
   "nbconvert_exporter": "python",
   "pygments_lexer": "ipython3",
   "version": "3.10.8 (main, Oct 13 2022, 09:48:40) [Clang 14.0.0 (clang-1400.0.29.102)]"
  },
  "vscode": {
   "interpreter": {
    "hash": "998f4869fd68e5596283ce4ce5c6181db93d2b740f5a0f1370fb1e5f7bd5d3b8"
   }
  }
 },
 "nbformat": 4,
 "nbformat_minor": 5
}
