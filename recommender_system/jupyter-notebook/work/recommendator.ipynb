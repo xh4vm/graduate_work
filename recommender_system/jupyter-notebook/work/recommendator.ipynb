{
 "cells": [
  {
   "cell_type": "code",
   "execution_count": 1,
   "id": "31efea63-55bf-4eea-ae4f-dc8a129b289e",
   "metadata": {},
   "outputs": [],
   "source": [
    "from pyspark import SparkConf, SparkContext\n",
    "from pyspark.sql import SparkSession\n",
    "import os\n",
    "from pyspark.mllib.recommendation import ALS"
   ]
  },
  {
   "cell_type": "code",
   "execution_count": 2,
   "id": "8c8e2e4f",
   "metadata": {},
   "outputs": [],
   "source": [
    "from pyspark.sql.functions import desc, collect_list"
   ]
  },
  {
   "cell_type": "code",
   "execution_count": null,
   "id": "337b416e-44dd-446c-8b40-e8f19d9ef9c4",
   "metadata": {},
   "outputs": [],
   "source": [
    "conf = SparkConf().setAppName('Recommendation service - Recommender').set('spark.jars.packages', 'org.mongodb.spark:mongo-spark-connector_2.12:3.0.1')\n",
    "sc = SparkContext(conf=conf)"
   ]
  },
  {
   "cell_type": "code",
   "execution_count": 3,
   "id": "e78c538b",
   "metadata": {},
   "outputs": [
    {
     "name": "stderr",
     "output_type": "stream",
     "text": [
      "WARNING: An illegal reflective access operation has occurred\n",
      "WARNING: Illegal reflective access by org.apache.spark.unsafe.Platform (file:/usr/local/spark-3.2.0-bin-hadoop3.2/jars/spark-unsafe_2.12-3.2.0.jar) to constructor java.nio.DirectByteBuffer(long,int)\n",
      "WARNING: Please consider reporting this to the maintainers of org.apache.spark.unsafe.Platform\n",
      "WARNING: Use --illegal-access=warn to enable warnings of further illegal reflective access operations\n",
      "WARNING: All illegal access operations will be denied in a future release\n",
      "Using Spark's default log4j profile: org/apache/spark/log4j-defaults.properties\n",
      "Setting default log level to \"WARN\".\n",
      "To adjust logging level use sc.setLogLevel(newLevel). For SparkR, use setLogLevel(newLevel).\n",
      "23/02/04 17:55:56 WARN NativeCodeLoader: Unable to load native-hadoop library for your platform... using builtin-java classes where applicable\n"
     ]
    }
   ],
   "source": [
    "conf = SparkConf().setAppName('Recommendation service - Recommender')\n",
    "sc = SparkContext(conf=conf)"
   ]
  },
  {
   "cell_type": "code",
   "execution_count": 4,
   "id": "7e5d43e5",
   "metadata": {},
   "outputs": [
    {
     "data": {
      "text/plain": [
       "'3.2.0'"
      ]
     },
     "execution_count": 4,
     "metadata": {},
     "output_type": "execute_result"
    }
   ],
   "source": [
    "sc.version"
   ]
  },
  {
   "cell_type": "code",
   "execution_count": null,
   "id": "25f10908-258d-4fea-990d-ff3e4cf02263",
   "metadata": {},
   "outputs": [],
   "source": [
    "# MONGO_CONNECT_STRING = 'mongodb://192.168.64.16:27017,192.168.64.17:27017'\n",
    "MONGO_CONNECT_STRING = 'mongodb:mongos1:27017,mongos2:27017'\n",
    "MONGO_DATABASE = 'recommender'\n",
    "MONGO_COLLECTION = 'recommendations'"
   ]
  },
  {
   "cell_type": "code",
   "execution_count": null,
   "id": "3c34dd50-bfca-41cc-88c0-ab0d2bc23bd5",
   "metadata": {},
   "outputs": [],
   "source": [
    "spark_session = SparkSession.builder.appName('Recommendation service - Recommender'\n",
    ").config('spark.mongodb.output.uri', MONGO_CONNECT_STRING\n",
    ").config('spark.mongodb.output.database', MONGO_DATABASE\n",
    ").config('spark.mongodb.output.collection', MONGO_COLLECTION\n",
    ").getOrCreate()"
   ]
  },
  {
   "cell_type": "code",
   "execution_count": null,
   "id": "75881c0f",
   "metadata": {},
   "outputs": [],
   "source": [
    "spark_session = SparkSession.builder.appName('Recommendation service - Recommender').getOrCreate()"
   ]
  },
  {
   "cell_type": "code",
   "execution_count": null,
   "id": "60b9d8fb",
   "metadata": {},
   "outputs": [],
   "source": [
    " os.getcwd()"
   ]
  },
  {
   "cell_type": "code",
   "execution_count": null,
   "id": "5395ce05",
   "metadata": {},
   "outputs": [],
   "source": [
    "ratings_file = '/opt/work/jupyter-notebook/work/ratings_100.csv'"
   ]
  },
  {
   "cell_type": "code",
   "execution_count": null,
   "id": "581a3df8-4bdd-4162-9fb4-9399f9437a49",
   "metadata": {},
   "outputs": [],
   "source": [
    "datasets_path = os.getcwd()\n",
    "ratings_file = os.path.join(datasets_path, 'ratings_100.csv')"
   ]
  },
  {
   "cell_type": "code",
   "execution_count": null,
   "id": "c36dc05d",
   "metadata": {},
   "outputs": [],
   "source": [
    "ratings_raw_data = sc.textFile('file:///' + ratings_file)\n",
    "ratings_raw_data_header = ratings_raw_data.take(1)[0]"
   ]
  },
  {
   "cell_type": "code",
   "execution_count": null,
   "id": "2dfe0b91",
   "metadata": {},
   "outputs": [],
   "source": [
    "ratings_raw_data_header"
   ]
  },
  {
   "cell_type": "code",
   "execution_count": null,
   "id": "34ef8e77-8c56-4c04-846d-b25eb02a7645",
   "metadata": {},
   "outputs": [],
   "source": [
    "full_ratings_data = ratings_raw_data.filter(lambda line: line != ratings_raw_data_header)\\\n",
    "    .map(lambda line: line.split(\",\")).map(lambda tokens: (int(tokens[0]),int(tokens[1]),int(float(tokens[2])))).cache()"
   ]
  },
  {
   "cell_type": "code",
   "execution_count": null,
   "id": "d50879cc-f890-4a9d-85e3-4251ff680c37",
   "metadata": {},
   "outputs": [],
   "source": [
    "sample_size = 100000\n",
    "fraction = sample_size / full_ratings_data.count()"
   ]
  },
  {
   "cell_type": "code",
   "execution_count": null,
   "id": "8e026640-c899-473c-8795-905abb352b37",
   "metadata": {},
   "outputs": [],
   "source": [
    "ratings_data = full_ratings_data.sample(False, fraction, 1001)"
   ]
  },
  {
   "cell_type": "code",
   "execution_count": null,
   "id": "af0bcc5d-d265-4450-8e34-d387bfcd3068",
   "metadata": {},
   "outputs": [],
   "source": [
    "# Split data into train, validation and test datasets\n",
    "rdd_training, rdd_validating, rdd_testing = full_ratings_data.randomSplit([6,2,2], seed=1001)"
   ]
  },
  {
   "cell_type": "code",
   "execution_count": null,
   "id": "f21f7919-35d7-4049-b10b-9d5e37b1d993",
   "metadata": {},
   "outputs": [],
   "source": [
    "rdd_validating_no_ratings = rdd_validating.map(lambda x: (int(x[0]), int(x[1])) )\n",
    "rdd_validating_with_ratings = rdd_validating.map(lambda x: ((int(x[0]),int(x[1])), float(x[2])) )"
   ]
  },
  {
   "cell_type": "code",
   "execution_count": null,
   "id": "1f0474bc-6716-435e-8e19-0fa761f4acb6",
   "metadata": {},
   "outputs": [],
   "source": [
    "nb_validating = rdd_validating.count()\n",
    "nb_testing    = rdd_testing.count()\n",
    "\n",
    "print(\"Training: %d, validation: %d, test: %d\" % (rdd_training.count(), nb_validating, rdd_testing.count()))"
   ]
  },
  {
   "cell_type": "code",
   "execution_count": null,
   "id": "6e81fb93-1341-43f6-8583-4db32241e426",
   "metadata": {},
   "outputs": [],
   "source": [
    "def get_rmse(actual, size_actual, predictions):\n",
    "    predictions_and_ratings = predictions.join(actual).values()    \n",
    "    return sqrt(predictions_and_ratings.map(lambda s: (s[0] - s[1]) ** 2).reduce(add) / float(size_actual))"
   ]
  },
  {
   "cell_type": "code",
   "execution_count": null,
   "id": "78558d00-e158-49c7-b2b8-7255a4842fc8",
   "metadata": {},
   "outputs": [],
   "source": [
    "full_data_no_ratings = full_ratings_data.map(lambda x: (int(x[0]), int(x[1])))"
   ]
  },
  {
   "cell_type": "code",
   "execution_count": null,
   "id": "e0965a75-f027-4cfd-9a99-7f779d996e33",
   "metadata": {},
   "outputs": [],
   "source": [
    "final_rank = 5\n",
    "final_regul = 0.1\n",
    "final_iter = 20\n",
    "final_dist = 2.426742063099514\n",
    "final_alpha = 40"
   ]
  },
  {
   "cell_type": "code",
   "execution_count": null,
   "id": "cd5d68fc-536f-450a-8fdf-b0bbe78cb0d1",
   "metadata": {},
   "outputs": [],
   "source": [
    "model = ALS.trainImplicit(full_ratings_data, final_rank, final_iter, float(final_regul),alpha=float(final_alpha))"
   ]
  },
  {
   "cell_type": "code",
   "execution_count": null,
   "id": "b2c9b450-3eea-4f2f-8438-cd2b9bff0b9c",
   "metadata": {},
   "outputs": [],
   "source": [
    "predictions = model.predictAll(full_data_no_ratings)"
   ]
  },
  {
   "cell_type": "code",
   "execution_count": null,
   "id": "8f643031",
   "metadata": {},
   "outputs": [],
   "source": [
    "spark_session = SparkSession(sc)"
   ]
  },
  {
   "cell_type": "code",
   "execution_count": null,
   "id": "47235c32",
   "metadata": {},
   "outputs": [],
   "source": [
    "data = [(12,3000,0.05),(2485,408891,0.054789),(88966,6200,0.369)]\n",
    "df = spark_session.createDataFrame(data,['user_id','film_id','score'])\n",
    "df.show()"
   ]
  },
  {
   "cell_type": "code",
   "execution_count": null,
   "id": "c99ff315-8f46-415f-9cc9-63cf7eeb35c5",
   "metadata": {},
   "outputs": [],
   "source": [
    "predictions_df = spark_session.createDataFrame(predictions).withColumnRenamed('user', 'user_id').orderBy('user_id', desc('rating'))"
   ]
  },
  {
   "cell_type": "code",
   "execution_count": null,
   "id": "6e77a7d2",
   "metadata": {},
   "outputs": [],
   "source": [
    "predictions_df.show(10)"
   ]
  },
  {
   "cell_type": "code",
   "execution_count": null,
   "id": "7c2d7273",
   "metadata": {},
   "outputs": [],
   "source": [
    "group_by_user = predictions_df.groupBy('user_id').agg(collect_list('product')).alias('movies_id')"
   ]
  },
  {
   "cell_type": "code",
   "execution_count": null,
   "id": "7d6f0003",
   "metadata": {},
   "outputs": [],
   "source": [
    "group_by_user.show(10)"
   ]
  },
  {
   "cell_type": "code",
   "execution_count": null,
   "id": "8b69b750-d566-4459-bf6c-1ce8549b9375",
   "metadata": {},
   "outputs": [],
   "source": [
    "predictions_df.write.format(\"com.mongodb.spark.sql.DefaultSource\").option(\n",
    "    'spark.mongodb.output.uri', MONGO_CONNECT_STRING\n",
    ").option(\n",
    "    'spark.mongodb.output.database', MONGO_DATABASES['db_data']\n",
    ").option(\n",
    "    'spark.mongodb.output.collection', MONGO_COLLECTION\n",
    ").save()"
   ]
  },
  {
   "cell_type": "code",
   "execution_count": null,
   "id": "399d3891",
   "metadata": {},
   "outputs": [],
   "source": []
  }
 ],
 "metadata": {
  "kernelspec": {
   "display_name": "Python 3 (ipykernel)",
   "language": "python",
   "name": "python3"
  },
  "language_info": {
   "codemirror_mode": {
    "name": "ipython",
    "version": 3
   },
   "file_extension": ".py",
   "mimetype": "text/x-python",
   "name": "python",
   "nbconvert_exporter": "python",
   "pygments_lexer": "ipython3",
   "version": "3.9.7"
  }
 },
 "nbformat": 4,
 "nbformat_minor": 5
}
